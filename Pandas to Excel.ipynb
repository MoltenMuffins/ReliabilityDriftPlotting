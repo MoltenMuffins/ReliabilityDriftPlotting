{
 "cells": [
  {
   "cell_type": "code",
   "execution_count": 6,
   "metadata": {
    "collapsed": true,
    "deletable": true,
    "editable": true
   },
   "outputs": [],
   "source": [
    "import pandas as pd\n",
    "import numpy as np\n",
    "from tkinter import filedialog\n",
    "from tkinter.filedialog import askdirectory, askopenfilenames\n",
    "import re"
   ]
  },
  {
   "cell_type": "code",
   "execution_count": 7,
   "metadata": {
    "collapsed": false,
    "deletable": true,
    "editable": true
   },
   "outputs": [],
   "source": [
    "#Variables\n",
    "stress = 'THB'\n",
    "SN = [x for x in range(1,31)]\n",
    "Raw_0h = [x/100 for x in range(1,31)]\n",
    "Raw_100h = [x+10/100 for x in range(1,31)]\n",
    "Perc_Drift = [100*(x+0.21/x) for x in range(1,31)]\n",
    "Real_Drift = [100*(x+0.21/x) for x in range(1,31)]\n",
    "Important_Plots_Keywords = [\n",
    "    \"forcecurrent_1.20a\",\n",
    "    \"vfc\",\n",
    "    \"pfc\",\n",
    "    \"uniformity\",\n",
    "    \"wc\",\n",
    "    \"ith\",\n",
    "    \"div1e2\"]"
   ]
  },
  {
   "cell_type": "code",
   "execution_count": 8,
   "metadata": {
    "collapsed": false,
    "deletable": true,
    "editable": true
   },
   "outputs": [],
   "source": [
    "from openpyxl import Workbook\n",
    "from openpyxl.styles import Alignment\n",
    "\n",
    "def build_table(stress, hours, label, Raw_0h, Raw_100h, Perc_Drift, Real_Drift):\n",
    "    # Header\n",
    "    sheet = book.create_sheet(title=label+'_'+str(hours)+'H')\n",
    "    sheet.merge_cells('A1:E1')\n",
    "    cell_stress = sheet.cell(row=1, column=1)\n",
    "    cell_stress.value = stress\n",
    "    cell_stress.alignment = Alignment(horizontal='center', vertical='center')\n",
    "\n",
    "    # SN Label\n",
    "    sheet.merge_cells('A2:A3')\n",
    "    SN_label = sheet.cell(row=2, column=1)\n",
    "    SN_label.value = 'SN'\n",
    "    SN_label.alignment = Alignment(horizontal='center', vertical='bottom')\n",
    "\n",
    "    # Label Label\n",
    "    sheet.merge_cells('B2:C2')\n",
    "    cell_label = sheet.cell(row=2, column=2)\n",
    "    cell_label.value = label\n",
    "    cell_label.alignment = Alignment(horizontal='center', vertical='bottom')\n",
    "\n",
    "    # Drift Label\n",
    "    cell_label = sheet.cell(row=2, column=4)\n",
    "    cell_label.value = 'Drift\\n(%)'\n",
    "    cell_label.alignment = Alignment(horizontal='center')\n",
    "\n",
    "\n",
    "    # Real Drift Label\n",
    "    cell_label = sheet.cell(row=2, column=5)\n",
    "    cell_label.value = 'Real\\nDrift (%)'\n",
    "    cell_label.alignment = Alignment(horizontal='center')\n",
    "\n",
    "    sheet['B3'] = '0h'\n",
    "    sheet['B3'].alignment = Alignment(horizontal='center')\n",
    "    sheet['C3'] = str(hours)+'h'\n",
    "    sheet['C3'].alignment = Alignment(horizontal='center')\n",
    "\n",
    "    # sht.range('A1').options(transpose=True).value = [1,2,3,4]\n",
    "\n",
    "    # Dump SN\n",
    "    for i in range(1,31):\n",
    "        sheet['A{}'.format(i+3)] = i\n",
    "\n",
    "    # Dump Raw 0H\n",
    "    for count, value in enumerate(Raw_0h):\n",
    "        sheet['B{}'.format(count+4)] = value    \n",
    "\n",
    "    # Dump Raw 100H\n",
    "    for count, value in enumerate(Raw_100h):\n",
    "        sheet['C{}'.format(count+4)] = value\n",
    "\n",
    "    # Dump Raw Drift\n",
    "    for count, value in enumerate(Perc_Drift):\n",
    "        sheet['D{}'.format(count+4)] = value\n",
    "\n",
    "    # Dump Reak Drift\n",
    "    for count, value in enumerate(Real_Drift):\n",
    "        sheet['E{}'.format(count+4)] = value"
   ]
  },
  {
   "cell_type": "code",
   "execution_count": 9,
   "metadata": {
    "collapsed": true,
    "deletable": true,
    "editable": true
   },
   "outputs": [],
   "source": [
    "def calculate_drift(Raw_Data,Ref_Data):\n",
    "    real_drift = [abs((B-A)/B)*100 for A,B in zip(Raw_Data,Ref_Data)]\n",
    "    return real_drift"
   ]
  },
  {
   "cell_type": "code",
   "execution_count": null,
   "metadata": {
    "collapsed": true,
    "deletable": true,
    "editable": true
   },
   "outputs": [],
   "source": []
  },
  {
   "cell_type": "code",
   "execution_count": 10,
   "metadata": {
    "collapsed": true,
    "deletable": true,
    "editable": true
   },
   "outputs": [],
   "source": [
    "def get_label_data(df, hour, label):\n",
    "    Data = df.loc[(df[0] == hour)].filter(like=label)\n",
    "    List_Data = Data.to_list()\n",
    "    return List_Data"
   ]
  },
  {
   "cell_type": "code",
   "execution_count": 15,
   "metadata": {
    "collapsed": false,
    "deletable": true,
    "editable": true
   },
   "outputs": [
    {
     "name": "stdout",
     "output_type": "stream",
     "text": [
      "C:/Users/econ/Documents/Datalogs/RTO-4124/HTOL/RTO-4124_FFT_Database.csv\n"
     ]
    },
    {
     "ename": "KeyError",
     "evalue": "0",
     "output_type": "error",
     "traceback": [
      "\u001b[1;31m---------------------------------------------------------------------------\u001b[0m",
      "\u001b[1;31mKeyError\u001b[0m                                  Traceback (most recent call last)",
      "\u001b[1;32mC:\\Users\\econ\\AppData\\Local\\Enthought\\Canopy\\edm\\envs\\User\\lib\\site-packages\\pandas\\core\\indexes\\base.py\u001b[0m in \u001b[0;36mget_loc\u001b[1;34m(self, key, method, tolerance)\u001b[0m\n\u001b[0;32m   2441\u001b[0m             \u001b[1;32mtry\u001b[0m\u001b[1;33m:\u001b[0m\u001b[1;33m\u001b[0m\u001b[0m\n\u001b[1;32m-> 2442\u001b[1;33m                 \u001b[1;32mreturn\u001b[0m \u001b[0mself\u001b[0m\u001b[1;33m.\u001b[0m\u001b[0m_engine\u001b[0m\u001b[1;33m.\u001b[0m\u001b[0mget_loc\u001b[0m\u001b[1;33m(\u001b[0m\u001b[0mkey\u001b[0m\u001b[1;33m)\u001b[0m\u001b[1;33m\u001b[0m\u001b[0m\n\u001b[0m\u001b[0;32m   2443\u001b[0m             \u001b[1;32mexcept\u001b[0m \u001b[0mKeyError\u001b[0m\u001b[1;33m:\u001b[0m\u001b[1;33m\u001b[0m\u001b[0m\n",
      "\u001b[1;32mpandas\\_libs\\index.pyx\u001b[0m in \u001b[0;36mpandas._libs.index.IndexEngine.get_loc (pandas\\_libs\\index.c:5280)\u001b[1;34m()\u001b[0m\n",
      "\u001b[1;32mpandas\\_libs\\index.pyx\u001b[0m in \u001b[0;36mpandas._libs.index.IndexEngine.get_loc (pandas\\_libs\\index.c:5126)\u001b[1;34m()\u001b[0m\n",
      "\u001b[1;32mpandas\\_libs\\hashtable_class_helper.pxi\u001b[0m in \u001b[0;36mpandas._libs.hashtable.PyObjectHashTable.get_item (pandas\\_libs\\hashtable.c:20523)\u001b[1;34m()\u001b[0m\n",
      "\u001b[1;32mpandas\\_libs\\hashtable_class_helper.pxi\u001b[0m in \u001b[0;36mpandas._libs.hashtable.PyObjectHashTable.get_item (pandas\\_libs\\hashtable.c:20477)\u001b[1;34m()\u001b[0m\n",
      "\u001b[1;31mKeyError\u001b[0m: 0",
      "\nDuring handling of the above exception, another exception occurred:\n",
      "\u001b[1;31mKeyError\u001b[0m                                  Traceback (most recent call last)",
      "\u001b[1;32m<ipython-input-15-a92abb8477db>\u001b[0m in \u001b[0;36m<module>\u001b[1;34m()\u001b[0m\n\u001b[0;32m      7\u001b[0m \u001b[0mRaw_Data_DF\u001b[0m \u001b[1;33m=\u001b[0m \u001b[0mpd\u001b[0m\u001b[1;33m.\u001b[0m\u001b[0mread_csv\u001b[0m\u001b[1;33m(\u001b[0m\u001b[0mfilename\u001b[0m\u001b[1;33m[\u001b[0m\u001b[1;36m0\u001b[0m\u001b[1;33m]\u001b[0m\u001b[1;33m)\u001b[0m\u001b[1;33m\u001b[0m\u001b[0m\n\u001b[0;32m      8\u001b[0m \u001b[1;33m\u001b[0m\u001b[0m\n\u001b[1;32m----> 9\u001b[1;33m \u001b[0mRaw_0h\u001b[0m \u001b[1;33m=\u001b[0m \u001b[0mget_label_data\u001b[0m\u001b[1;33m(\u001b[0m\u001b[0mRaw_Data_DF\u001b[0m\u001b[1;33m,\u001b[0m \u001b[1;36m0\u001b[0m\u001b[1;33m,\u001b[0m \u001b[0mlabel\u001b[0m\u001b[1;33m)\u001b[0m\u001b[1;33m\u001b[0m\u001b[0m\n\u001b[0m\u001b[0;32m     10\u001b[0m \u001b[0mRaw_100h\u001b[0m \u001b[1;33m=\u001b[0m \u001b[0mget_label_data\u001b[0m\u001b[1;33m(\u001b[0m\u001b[0mRaw_Data_DF\u001b[0m\u001b[1;33m,\u001b[0m \u001b[1;36m100\u001b[0m\u001b[1;33m,\u001b[0m \u001b[0mlabel\u001b[0m\u001b[1;33m)\u001b[0m\u001b[1;33m\u001b[0m\u001b[0m\n\u001b[0;32m     11\u001b[0m \u001b[1;33m\u001b[0m\u001b[0m\n",
      "\u001b[1;32m<ipython-input-10-49e6cab1e2de>\u001b[0m in \u001b[0;36mget_label_data\u001b[1;34m(df, hour, label)\u001b[0m\n\u001b[0;32m      1\u001b[0m \u001b[1;32mdef\u001b[0m \u001b[0mget_label_data\u001b[0m\u001b[1;33m(\u001b[0m\u001b[0mdf\u001b[0m\u001b[1;33m,\u001b[0m \u001b[0mhour\u001b[0m\u001b[1;33m,\u001b[0m \u001b[0mlabel\u001b[0m\u001b[1;33m)\u001b[0m\u001b[1;33m:\u001b[0m\u001b[1;33m\u001b[0m\u001b[0m\n\u001b[1;32m----> 2\u001b[1;33m     \u001b[0mData\u001b[0m \u001b[1;33m=\u001b[0m \u001b[0mdf\u001b[0m\u001b[1;33m.\u001b[0m\u001b[0mloc\u001b[0m\u001b[1;33m[\u001b[0m\u001b[1;33m(\u001b[0m\u001b[0mdf\u001b[0m\u001b[1;33m[\u001b[0m\u001b[1;36m0\u001b[0m\u001b[1;33m]\u001b[0m \u001b[1;33m==\u001b[0m \u001b[0mhour\u001b[0m\u001b[1;33m)\u001b[0m\u001b[1;33m]\u001b[0m\u001b[1;33m.\u001b[0m\u001b[0mfilter\u001b[0m\u001b[1;33m(\u001b[0m\u001b[0mlike\u001b[0m\u001b[1;33m=\u001b[0m\u001b[0mlabel\u001b[0m\u001b[1;33m)\u001b[0m\u001b[1;33m\u001b[0m\u001b[0m\n\u001b[0m\u001b[0;32m      3\u001b[0m     \u001b[0mList_Data\u001b[0m \u001b[1;33m=\u001b[0m \u001b[0mData\u001b[0m\u001b[1;33m.\u001b[0m\u001b[0mto_list\u001b[0m\u001b[1;33m(\u001b[0m\u001b[1;33m)\u001b[0m\u001b[1;33m\u001b[0m\u001b[0m\n\u001b[0;32m      4\u001b[0m     \u001b[1;32mreturn\u001b[0m \u001b[0mList_Data\u001b[0m\u001b[1;33m\u001b[0m\u001b[0m\n",
      "\u001b[1;32mC:\\Users\\econ\\AppData\\Local\\Enthought\\Canopy\\edm\\envs\\User\\lib\\site-packages\\pandas\\core\\frame.py\u001b[0m in \u001b[0;36m__getitem__\u001b[1;34m(self, key)\u001b[0m\n\u001b[0;32m   1962\u001b[0m             \u001b[1;32mreturn\u001b[0m \u001b[0mself\u001b[0m\u001b[1;33m.\u001b[0m\u001b[0m_getitem_multilevel\u001b[0m\u001b[1;33m(\u001b[0m\u001b[0mkey\u001b[0m\u001b[1;33m)\u001b[0m\u001b[1;33m\u001b[0m\u001b[0m\n\u001b[0;32m   1963\u001b[0m         \u001b[1;32melse\u001b[0m\u001b[1;33m:\u001b[0m\u001b[1;33m\u001b[0m\u001b[0m\n\u001b[1;32m-> 1964\u001b[1;33m             \u001b[1;32mreturn\u001b[0m \u001b[0mself\u001b[0m\u001b[1;33m.\u001b[0m\u001b[0m_getitem_column\u001b[0m\u001b[1;33m(\u001b[0m\u001b[0mkey\u001b[0m\u001b[1;33m)\u001b[0m\u001b[1;33m\u001b[0m\u001b[0m\n\u001b[0m\u001b[0;32m   1965\u001b[0m \u001b[1;33m\u001b[0m\u001b[0m\n\u001b[0;32m   1966\u001b[0m     \u001b[1;32mdef\u001b[0m \u001b[0m_getitem_column\u001b[0m\u001b[1;33m(\u001b[0m\u001b[0mself\u001b[0m\u001b[1;33m,\u001b[0m \u001b[0mkey\u001b[0m\u001b[1;33m)\u001b[0m\u001b[1;33m:\u001b[0m\u001b[1;33m\u001b[0m\u001b[0m\n",
      "\u001b[1;32mC:\\Users\\econ\\AppData\\Local\\Enthought\\Canopy\\edm\\envs\\User\\lib\\site-packages\\pandas\\core\\frame.py\u001b[0m in \u001b[0;36m_getitem_column\u001b[1;34m(self, key)\u001b[0m\n\u001b[0;32m   1969\u001b[0m         \u001b[1;31m# get column\u001b[0m\u001b[1;33m\u001b[0m\u001b[1;33m\u001b[0m\u001b[0m\n\u001b[0;32m   1970\u001b[0m         \u001b[1;32mif\u001b[0m \u001b[0mself\u001b[0m\u001b[1;33m.\u001b[0m\u001b[0mcolumns\u001b[0m\u001b[1;33m.\u001b[0m\u001b[0mis_unique\u001b[0m\u001b[1;33m:\u001b[0m\u001b[1;33m\u001b[0m\u001b[0m\n\u001b[1;32m-> 1971\u001b[1;33m             \u001b[1;32mreturn\u001b[0m \u001b[0mself\u001b[0m\u001b[1;33m.\u001b[0m\u001b[0m_get_item_cache\u001b[0m\u001b[1;33m(\u001b[0m\u001b[0mkey\u001b[0m\u001b[1;33m)\u001b[0m\u001b[1;33m\u001b[0m\u001b[0m\n\u001b[0m\u001b[0;32m   1972\u001b[0m \u001b[1;33m\u001b[0m\u001b[0m\n\u001b[0;32m   1973\u001b[0m         \u001b[1;31m# duplicate columns & possible reduce dimensionality\u001b[0m\u001b[1;33m\u001b[0m\u001b[1;33m\u001b[0m\u001b[0m\n",
      "\u001b[1;32mC:\\Users\\econ\\AppData\\Local\\Enthought\\Canopy\\edm\\envs\\User\\lib\\site-packages\\pandas\\core\\generic.py\u001b[0m in \u001b[0;36m_get_item_cache\u001b[1;34m(self, item)\u001b[0m\n\u001b[0;32m   1643\u001b[0m         \u001b[0mres\u001b[0m \u001b[1;33m=\u001b[0m \u001b[0mcache\u001b[0m\u001b[1;33m.\u001b[0m\u001b[0mget\u001b[0m\u001b[1;33m(\u001b[0m\u001b[0mitem\u001b[0m\u001b[1;33m)\u001b[0m\u001b[1;33m\u001b[0m\u001b[0m\n\u001b[0;32m   1644\u001b[0m         \u001b[1;32mif\u001b[0m \u001b[0mres\u001b[0m \u001b[1;32mis\u001b[0m \u001b[1;32mNone\u001b[0m\u001b[1;33m:\u001b[0m\u001b[1;33m\u001b[0m\u001b[0m\n\u001b[1;32m-> 1645\u001b[1;33m             \u001b[0mvalues\u001b[0m \u001b[1;33m=\u001b[0m \u001b[0mself\u001b[0m\u001b[1;33m.\u001b[0m\u001b[0m_data\u001b[0m\u001b[1;33m.\u001b[0m\u001b[0mget\u001b[0m\u001b[1;33m(\u001b[0m\u001b[0mitem\u001b[0m\u001b[1;33m)\u001b[0m\u001b[1;33m\u001b[0m\u001b[0m\n\u001b[0m\u001b[0;32m   1646\u001b[0m             \u001b[0mres\u001b[0m \u001b[1;33m=\u001b[0m \u001b[0mself\u001b[0m\u001b[1;33m.\u001b[0m\u001b[0m_box_item_values\u001b[0m\u001b[1;33m(\u001b[0m\u001b[0mitem\u001b[0m\u001b[1;33m,\u001b[0m \u001b[0mvalues\u001b[0m\u001b[1;33m)\u001b[0m\u001b[1;33m\u001b[0m\u001b[0m\n\u001b[0;32m   1647\u001b[0m             \u001b[0mcache\u001b[0m\u001b[1;33m[\u001b[0m\u001b[0mitem\u001b[0m\u001b[1;33m]\u001b[0m \u001b[1;33m=\u001b[0m \u001b[0mres\u001b[0m\u001b[1;33m\u001b[0m\u001b[0m\n",
      "\u001b[1;32mC:\\Users\\econ\\AppData\\Local\\Enthought\\Canopy\\edm\\envs\\User\\lib\\site-packages\\pandas\\core\\internals.py\u001b[0m in \u001b[0;36mget\u001b[1;34m(self, item, fastpath)\u001b[0m\n\u001b[0;32m   3588\u001b[0m \u001b[1;33m\u001b[0m\u001b[0m\n\u001b[0;32m   3589\u001b[0m             \u001b[1;32mif\u001b[0m \u001b[1;32mnot\u001b[0m \u001b[0misnull\u001b[0m\u001b[1;33m(\u001b[0m\u001b[0mitem\u001b[0m\u001b[1;33m)\u001b[0m\u001b[1;33m:\u001b[0m\u001b[1;33m\u001b[0m\u001b[0m\n\u001b[1;32m-> 3590\u001b[1;33m                 \u001b[0mloc\u001b[0m \u001b[1;33m=\u001b[0m \u001b[0mself\u001b[0m\u001b[1;33m.\u001b[0m\u001b[0mitems\u001b[0m\u001b[1;33m.\u001b[0m\u001b[0mget_loc\u001b[0m\u001b[1;33m(\u001b[0m\u001b[0mitem\u001b[0m\u001b[1;33m)\u001b[0m\u001b[1;33m\u001b[0m\u001b[0m\n\u001b[0m\u001b[0;32m   3591\u001b[0m             \u001b[1;32melse\u001b[0m\u001b[1;33m:\u001b[0m\u001b[1;33m\u001b[0m\u001b[0m\n\u001b[0;32m   3592\u001b[0m                 \u001b[0mindexer\u001b[0m \u001b[1;33m=\u001b[0m \u001b[0mnp\u001b[0m\u001b[1;33m.\u001b[0m\u001b[0marange\u001b[0m\u001b[1;33m(\u001b[0m\u001b[0mlen\u001b[0m\u001b[1;33m(\u001b[0m\u001b[0mself\u001b[0m\u001b[1;33m.\u001b[0m\u001b[0mitems\u001b[0m\u001b[1;33m)\u001b[0m\u001b[1;33m)\u001b[0m\u001b[1;33m[\u001b[0m\u001b[0misnull\u001b[0m\u001b[1;33m(\u001b[0m\u001b[0mself\u001b[0m\u001b[1;33m.\u001b[0m\u001b[0mitems\u001b[0m\u001b[1;33m)\u001b[0m\u001b[1;33m]\u001b[0m\u001b[1;33m\u001b[0m\u001b[0m\n",
      "\u001b[1;32mC:\\Users\\econ\\AppData\\Local\\Enthought\\Canopy\\edm\\envs\\User\\lib\\site-packages\\pandas\\core\\indexes\\base.py\u001b[0m in \u001b[0;36mget_loc\u001b[1;34m(self, key, method, tolerance)\u001b[0m\n\u001b[0;32m   2442\u001b[0m                 \u001b[1;32mreturn\u001b[0m \u001b[0mself\u001b[0m\u001b[1;33m.\u001b[0m\u001b[0m_engine\u001b[0m\u001b[1;33m.\u001b[0m\u001b[0mget_loc\u001b[0m\u001b[1;33m(\u001b[0m\u001b[0mkey\u001b[0m\u001b[1;33m)\u001b[0m\u001b[1;33m\u001b[0m\u001b[0m\n\u001b[0;32m   2443\u001b[0m             \u001b[1;32mexcept\u001b[0m \u001b[0mKeyError\u001b[0m\u001b[1;33m:\u001b[0m\u001b[1;33m\u001b[0m\u001b[0m\n\u001b[1;32m-> 2444\u001b[1;33m                 \u001b[1;32mreturn\u001b[0m \u001b[0mself\u001b[0m\u001b[1;33m.\u001b[0m\u001b[0m_engine\u001b[0m\u001b[1;33m.\u001b[0m\u001b[0mget_loc\u001b[0m\u001b[1;33m(\u001b[0m\u001b[0mself\u001b[0m\u001b[1;33m.\u001b[0m\u001b[0m_maybe_cast_indexer\u001b[0m\u001b[1;33m(\u001b[0m\u001b[0mkey\u001b[0m\u001b[1;33m)\u001b[0m\u001b[1;33m)\u001b[0m\u001b[1;33m\u001b[0m\u001b[0m\n\u001b[0m\u001b[0;32m   2445\u001b[0m \u001b[1;33m\u001b[0m\u001b[0m\n\u001b[0;32m   2446\u001b[0m         \u001b[0mindexer\u001b[0m \u001b[1;33m=\u001b[0m \u001b[0mself\u001b[0m\u001b[1;33m.\u001b[0m\u001b[0mget_indexer\u001b[0m\u001b[1;33m(\u001b[0m\u001b[1;33m[\u001b[0m\u001b[0mkey\u001b[0m\u001b[1;33m]\u001b[0m\u001b[1;33m,\u001b[0m \u001b[0mmethod\u001b[0m\u001b[1;33m=\u001b[0m\u001b[0mmethod\u001b[0m\u001b[1;33m,\u001b[0m \u001b[0mtolerance\u001b[0m\u001b[1;33m=\u001b[0m\u001b[0mtolerance\u001b[0m\u001b[1;33m)\u001b[0m\u001b[1;33m\u001b[0m\u001b[0m\n",
      "\u001b[1;32mpandas\\_libs\\index.pyx\u001b[0m in \u001b[0;36mpandas._libs.index.IndexEngine.get_loc (pandas\\_libs\\index.c:5280)\u001b[1;34m()\u001b[0m\n",
      "\u001b[1;32mpandas\\_libs\\index.pyx\u001b[0m in \u001b[0;36mpandas._libs.index.IndexEngine.get_loc (pandas\\_libs\\index.c:5126)\u001b[1;34m()\u001b[0m\n",
      "\u001b[1;32mpandas\\_libs\\hashtable_class_helper.pxi\u001b[0m in \u001b[0;36mpandas._libs.hashtable.PyObjectHashTable.get_item (pandas\\_libs\\hashtable.c:20523)\u001b[1;34m()\u001b[0m\n",
      "\u001b[1;32mpandas\\_libs\\hashtable_class_helper.pxi\u001b[0m in \u001b[0;36mpandas._libs.hashtable.PyObjectHashTable.get_item (pandas\\_libs\\hashtable.c:20477)\u001b[1;34m()\u001b[0m\n",
      "\u001b[1;31mKeyError\u001b[0m: 0"
     ]
    }
   ],
   "source": [
    "book = Workbook()\n",
    "hour = 100\n",
    "label = \"forcecurrent_1.20a\"\n",
    "\n",
    "filename = askopenfilenames(filetypes=((\"CSV files\", \"*.csv\"), (\"All files\", \"*.*\")))\n",
    "print(filename[0])\n",
    "Raw_Data_DF = pd.read_csv(filename[0])\n",
    "\n",
    "Raw_0h = get_label_data(Raw_Data_DF, 0, label)\n",
    "Raw_100h = get_label_data(Raw_Data_DF, 100, label)\n",
    "\n",
    "Ref_100h = get_label_data(Ref_Data_DF, 100, label)\n",
    "\n",
    "# Perc_Drift = calculate_drift(Raw_0h, Raw_100h)\n",
    "# Real_Drift = calculate_drift(Raw_100h, Ref_100h)\n",
    "\n",
    "build_table(stress, hour, label, Raw_0h, Raw_100h, Perc_Drift, Real_Drift)\n",
    "book.save('merging.xlsx')"
   ]
  },
  {
   "cell_type": "code",
   "execution_count": 3,
   "metadata": {
    "collapsed": true
   },
   "outputs": [],
   "source": [
    "def build_table(stress, hours, label, Raw_0h, Raw_100h, Perc_Drift, Real_Drift):\n",
    "    # Header\n",
    "    sheet = book.create_sheet(title=label+'_'+str(hours)+'H')\n",
    "    sheet.merge_cells('A1:E1')\n",
    "    cell_stress = sheet.cell(row=1, column=1)\n",
    "    cell_stress.value = stress\n",
    "    cell_stress.alignment = Alignment(horizontal='center', vertical='center')\n",
    "\n",
    "    # SN Label\n",
    "    sheet.merge_cells('A2:A3')\n",
    "    SN_label = sheet.cell(row=2, column=1)\n",
    "    SN_label.value = 'SN'\n",
    "    SN_label.alignment = Alignment(horizontal='center', vertical='bottom')\n",
    "\n",
    "    # Label Label\n",
    "    sheet.merge_cells('B2:C2')\n",
    "    cell_label = sheet.cell(row=2, column=2)\n",
    "    cell_label.value = label\n",
    "    cell_label.alignment = Alignment(horizontal='center', vertical='bottom')\n",
    "\n",
    "    # Drift Label\n",
    "    cell_label = sheet.cell(row=2, column=4)\n",
    "    cell_label.value = 'Drift\\n(%)'\n",
    "    cell_label.alignment = Alignment(horizontal='center')\n",
    "\n",
    "\n",
    "    # Real Drift Label\n",
    "    cell_label = sheet.cell(row=2, column=5)\n",
    "    cell_label.value = 'Real\\nDrift (%)'\n",
    "    cell_label.alignment = Alignment(horizontal='center')\n",
    "\n",
    "    sheet['B3'] = '0h'\n",
    "    sheet['B3'].alignment = Alignment(horizontal='center')\n",
    "    sheet['C3'] = str(hours)+'h'\n",
    "    sheet['C3'].alignment = Alignment(horizontal='center')\n",
    "    # sht.range('A1').options(transpose=True).value = [1,2,3,4]\n",
    "\n",
    "    # Dump SN\n",
    "    for i in range(1,31):\n",
    "        sheet['A{}'.format(i+3)] = i\n",
    "\n",
    "    # Dump Raw 0H\n",
    "    for count, value in enumerate(Raw_0h):\n",
    "        sheet['B{}'.format(count+4)] = value    \n",
    "\n",
    "    # Dump Raw 100H\n",
    "    for count, value in enumerate(Raw_100h):\n",
    "        sheet['C{}'.format(count+4)] = value\n",
    "\n",
    "    # Dump Raw Drift\n",
    "    for count, value in enumerate(Perc_Drift):\n",
    "        sheet['D{}'.format(count+4)] = value\n",
    "\n",
    "    # Dump Reak Drift\n",
    "    for count, value in enumerate(Real_Drift):\n",
    "        sheet['E{}'.format(count+4)] = value"
   ]
  },
  {
   "cell_type": "code",
   "execution_count": 2,
   "metadata": {
    "collapsed": true
   },
   "outputs": [],
   "source": [
    "def generate_drift_statistics(dataframe, save_location):\n",
    "    \"\"\"    \n",
    "    Calculates the following drift statistics: Average Drift, Absolute Average Drift, Maximum Absolute Drift,\n",
    "    Mininum Absolute Drift, Raw Average Drift, Raw Average Drift, Maximum Raw Drift\n",
    "    and Mininum Raw Drift.\n",
    "\n",
    "    Takes a dataframe read from a database.csv file and a save location. \n",
    "    Saves the calculated drift.xlsx in the designated save location\n",
    "    \"\"\"\n",
    "    dataframe.sort_values(by=[\"Hours\", \"PART_INDEX\", \"TIMESTAMP\"], inplace=True)\n",
    "    # Labels for calculation\n",
    "    label_raw = dataframe.columns.values.tolist()\n",
    "    labels = label_raw[9:]\n",
    "\n",
    "    s = dataframe.PART_INDEX.unique()\n",
    "    s = np.append(s, [\"Min\", \"Max\", \"Mean\", \"Std\"])\n",
    "    s1_df = pd.DataFrame(s, columns=[\"PART_INDEX\"])\n",
    "    s2_df = pd.DataFrame(s, columns=[\"PART_INDEX\"])\n",
    "\n",
    "    hour_range = dataframe.Hours.unique().tolist()\n",
    "    cols = [\"PART_INDEX\"]\n",
    "    cols.extend(hour_range)\n",
    "    # print(\"Cycles Detected: \", cols[1:])\n",
    "    dataframe.set_index([\"Hours\", \"PART_INDEX\"], inplace=True)\n",
    "\n",
    "    for label in labels:\n",
    "        baseline = dataframe[label][0]\n",
    "\n",
    "        for hour in hour_range[1:]:\n",
    "            # Calculate Raw Drift values\n",
    "            curr_value = dataframe[label][hour]\n",
    "            raw_drift = ((curr_value - baseline) / baseline) * 100\n",
    "\n",
    "            dict_of_raw_drift[\"{}\".format(label)][hour] = all_raw_drift.values  # Add values to Dataframe in Dictionary\n",
    "\n",
    "            abs_drift = abs(raw_drift)  # Calculate Absolute Drift Values\n",
    "\n",
    "            dict_of_abs_drift[\"{}\".format(label)][hour] = all_abs_drift.values  # Add values to Dataframe in Dictionary\n",
    "\n"
   ]
  },
  {
   "cell_type": "code",
   "execution_count": 5,
   "metadata": {
    "collapsed": false,
    "deletable": true,
    "editable": true
   },
   "outputs": [],
   "source": [
    "def make_report():\n",
    "    '''\n",
    "    Makes report xlsx files for a given RTO folder by comparing REF and Stress splits.\n",
    "    '''\n",
    "    stringoffiles = askopenfilenames(\n",
    "        filetypes=((\"CSV files\", \"*.csv\"), (\"All files\", \"*.*\"))\n",
    "    )\n",
    "    \n",
    "    \n",
    "   \n",
    "        \n",
    "    listoffiles = [stringoffiles]\n",
    "    for file in listoffiles:\n",
    "        # try:\n",
    "        m = re.search(r\"RTO.(\\d{1,})\", file, flags=re.IGNORECASE)\n",
    "        rto_num = str(m.group(1))\n",
    "        measurement_type = find_test_type(file)\n",
    "        savepath = (\n",
    "            os.path.dirname(file)\n",
    "            + \"/Drift Calculation/\"\n",
    "            + \"RTO-{}_{}_\".format(rto_num, measurement_type)\n",
    "        )\n",
    "\n",
    "        if not os.path.exists(os.path.dirname(file) + \"/New Drift Calculation/\"):\n",
    "            os.makedirs(os.path.dirname(file) + \"/New Drift Calculation/\")\n",
    "\n",
    "        print(\"Saving calculations to: \", os.path.dirname(file) + \"/New Drift Calculation/\")\n",
    "\n",
    "        main_df = pd.read_csv(file)\n",
    "\n",
    "        generate_drift_statistics(main_df, savepath)\n",
    "        print(\"New Drift Calculations Saved\")"
   ]
  },
  {
   "cell_type": "code",
   "execution_count": 6,
   "metadata": {
    "collapsed": false
   },
   "outputs": [
    {
     "ename": "TypeError",
     "evalue": "expected string or bytes-like object",
     "output_type": "error",
     "traceback": [
      "\u001b[1;31m---------------------------------------------------------------------------\u001b[0m",
      "\u001b[1;31mTypeError\u001b[0m                                 Traceback (most recent call last)",
      "\u001b[1;32m<ipython-input-6-4a58ff84d385>\u001b[0m in \u001b[0;36m<module>\u001b[1;34m()\u001b[0m\n\u001b[1;32m----> 1\u001b[1;33m \u001b[0mmake_report\u001b[0m\u001b[1;33m(\u001b[0m\u001b[1;33m)\u001b[0m\u001b[1;33m\u001b[0m\u001b[0m\n\u001b[0m",
      "\u001b[1;32m<ipython-input-5-b2d5f0596d06>\u001b[0m in \u001b[0;36mmake_report\u001b[1;34m()\u001b[0m\n\u001b[0;32m     68\u001b[0m     \u001b[1;32mfor\u001b[0m \u001b[0mfile\u001b[0m \u001b[1;32min\u001b[0m \u001b[0mlistoffiles\u001b[0m\u001b[1;33m:\u001b[0m\u001b[1;33m\u001b[0m\u001b[0m\n\u001b[0;32m     69\u001b[0m         \u001b[1;31m# try:\u001b[0m\u001b[1;33m\u001b[0m\u001b[1;33m\u001b[0m\u001b[0m\n\u001b[1;32m---> 70\u001b[1;33m         \u001b[0mm\u001b[0m \u001b[1;33m=\u001b[0m \u001b[0mre\u001b[0m\u001b[1;33m.\u001b[0m\u001b[0msearch\u001b[0m\u001b[1;33m(\u001b[0m\u001b[1;34mr\"RTO.(\\d{1,})\"\u001b[0m\u001b[1;33m,\u001b[0m \u001b[0mfile\u001b[0m\u001b[1;33m,\u001b[0m \u001b[0mflags\u001b[0m\u001b[1;33m=\u001b[0m\u001b[0mre\u001b[0m\u001b[1;33m.\u001b[0m\u001b[0mIGNORECASE\u001b[0m\u001b[1;33m)\u001b[0m\u001b[1;33m\u001b[0m\u001b[0m\n\u001b[0m\u001b[0;32m     71\u001b[0m         \u001b[0mrto_num\u001b[0m \u001b[1;33m=\u001b[0m \u001b[0mstr\u001b[0m\u001b[1;33m(\u001b[0m\u001b[0mm\u001b[0m\u001b[1;33m.\u001b[0m\u001b[0mgroup\u001b[0m\u001b[1;33m(\u001b[0m\u001b[1;36m1\u001b[0m\u001b[1;33m)\u001b[0m\u001b[1;33m)\u001b[0m\u001b[1;33m\u001b[0m\u001b[0m\n\u001b[0;32m     72\u001b[0m         \u001b[0mmeasurement_type\u001b[0m \u001b[1;33m=\u001b[0m \u001b[0mfind_test_type\u001b[0m\u001b[1;33m(\u001b[0m\u001b[0mfile\u001b[0m\u001b[1;33m)\u001b[0m\u001b[1;33m\u001b[0m\u001b[0m\n",
      "\u001b[1;32mC:\\Users\\econ\\AppData\\Local\\Enthought\\Canopy\\edm\\envs\\User\\lib\\re.py\u001b[0m in \u001b[0;36msearch\u001b[1;34m(pattern, string, flags)\u001b[0m\n\u001b[0;32m    171\u001b[0m     \"\"\"Scan through string looking for a match to the pattern, returning\n\u001b[0;32m    172\u001b[0m     a match object, or None if no match was found.\"\"\"\n\u001b[1;32m--> 173\u001b[1;33m     \u001b[1;32mreturn\u001b[0m \u001b[0m_compile\u001b[0m\u001b[1;33m(\u001b[0m\u001b[0mpattern\u001b[0m\u001b[1;33m,\u001b[0m \u001b[0mflags\u001b[0m\u001b[1;33m)\u001b[0m\u001b[1;33m.\u001b[0m\u001b[0msearch\u001b[0m\u001b[1;33m(\u001b[0m\u001b[0mstring\u001b[0m\u001b[1;33m)\u001b[0m\u001b[1;33m\u001b[0m\u001b[0m\n\u001b[0m\u001b[0;32m    174\u001b[0m \u001b[1;33m\u001b[0m\u001b[0m\n\u001b[0;32m    175\u001b[0m \u001b[1;32mdef\u001b[0m \u001b[0msub\u001b[0m\u001b[1;33m(\u001b[0m\u001b[0mpattern\u001b[0m\u001b[1;33m,\u001b[0m \u001b[0mrepl\u001b[0m\u001b[1;33m,\u001b[0m \u001b[0mstring\u001b[0m\u001b[1;33m,\u001b[0m \u001b[0mcount\u001b[0m\u001b[1;33m=\u001b[0m\u001b[1;36m0\u001b[0m\u001b[1;33m,\u001b[0m \u001b[0mflags\u001b[0m\u001b[1;33m=\u001b[0m\u001b[1;36m0\u001b[0m\u001b[1;33m)\u001b[0m\u001b[1;33m:\u001b[0m\u001b[1;33m\u001b[0m\u001b[0m\n",
      "\u001b[1;31mTypeError\u001b[0m: expected string or bytes-like object"
     ]
    }
   ],
   "source": [
    "make_report()"
   ]
  },
  {
   "cell_type": "code",
   "execution_count": null,
   "metadata": {
    "collapsed": true
   },
   "outputs": [],
   "source": []
  }
 ],
 "metadata": {
  "kernelspec": {
   "display_name": "Python 3",
   "language": "python",
   "name": "python3"
  },
  "language_info": {
   "codemirror_mode": {
    "name": "ipython",
    "version": 3
   },
   "file_extension": ".py",
   "mimetype": "text/x-python",
   "name": "python",
   "nbconvert_exporter": "python",
   "pygments_lexer": "ipython3",
   "version": "3.5.2"
  }
 },
 "nbformat": 4,
 "nbformat_minor": 2
}
